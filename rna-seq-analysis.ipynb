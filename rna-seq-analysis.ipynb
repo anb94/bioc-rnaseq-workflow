{
 "cells": [
  {
   "cell_type": "markdown",
   "id": "d54ee79a",
   "metadata": {},
   "source": [
    "# RNA Seq Analysis"
   ]
  },
  {
   "cell_type": "markdown",
   "id": "e24c1901",
   "metadata": {},
   "source": [
    "This section is to be completed after the reads have been quantified using salmon"
   ]
  },
  {
   "cell_type": "code",
   "execution_count": 1,
   "id": "194c2b9f",
   "metadata": {
    "vscode": {
     "languageId": "r"
    }
   },
   "outputs": [
    {
     "name": "stderr",
     "output_type": "stream",
     "text": [
      "\n",
      "Attaching package: ‘dplyr’\n",
      "\n",
      "\n",
      "The following objects are masked from ‘package:stats’:\n",
      "\n",
      "    filter, lag\n",
      "\n",
      "\n",
      "The following objects are masked from ‘package:base’:\n",
      "\n",
      "    intersect, setdiff, setequal, union\n",
      "\n",
      "\n",
      "Loading required package: S4Vectors\n",
      "\n",
      "Loading required package: stats4\n",
      "\n",
      "Loading required package: BiocGenerics\n",
      "\n",
      "\n",
      "Attaching package: ‘BiocGenerics’\n",
      "\n",
      "\n",
      "The following objects are masked from ‘package:dplyr’:\n",
      "\n",
      "    combine, intersect, setdiff, union\n",
      "\n",
      "\n",
      "The following objects are masked from ‘package:stats’:\n",
      "\n",
      "    IQR, mad, sd, var, xtabs\n",
      "\n",
      "\n",
      "The following objects are masked from ‘package:base’:\n",
      "\n",
      "    anyDuplicated, aperm, append, as.data.frame, basename, cbind,\n",
      "    colnames, dirname, do.call, duplicated, eval, evalq, Filter, Find,\n",
      "    get, grep, grepl, intersect, is.unsorted, lapply, Map, mapply,\n",
      "    match, mget, order, paste, pmax, pmax.int, pmin, pmin.int,\n",
      "    Position, rank, rbind, Reduce, rownames, sapply, saveRDS, setdiff,\n",
      "    table, tapply, union, unique, unsplit, which.max, which.min\n",
      "\n",
      "\n",
      "\n",
      "Attaching package: ‘S4Vectors’\n",
      "\n",
      "\n",
      "The following objects are masked from ‘package:dplyr’:\n",
      "\n",
      "    first, rename\n",
      "\n",
      "\n",
      "The following object is masked from ‘package:utils’:\n",
      "\n",
      "    findMatches\n",
      "\n",
      "\n",
      "The following objects are masked from ‘package:base’:\n",
      "\n",
      "    expand.grid, I, unname\n",
      "\n",
      "\n",
      "Loading required package: IRanges\n",
      "\n",
      "\n",
      "Attaching package: ‘IRanges’\n",
      "\n",
      "\n",
      "The following objects are masked from ‘package:dplyr’:\n",
      "\n",
      "    collapse, desc, slice\n",
      "\n",
      "\n",
      "Loading required package: GenomicRanges\n",
      "\n",
      "Loading required package: GenomeInfoDb\n",
      "\n",
      "Loading required package: SummarizedExperiment\n",
      "\n",
      "Loading required package: MatrixGenerics\n",
      "\n",
      "Loading required package: matrixStats\n",
      "\n",
      "\n",
      "Attaching package: ‘matrixStats’\n",
      "\n",
      "\n",
      "The following object is masked from ‘package:dplyr’:\n",
      "\n",
      "    count\n",
      "\n",
      "\n",
      "\n",
      "Attaching package: ‘MatrixGenerics’\n",
      "\n",
      "\n",
      "The following objects are masked from ‘package:matrixStats’:\n",
      "\n",
      "    colAlls, colAnyNAs, colAnys, colAvgsPerRowSet, colCollapse,\n",
      "    colCounts, colCummaxs, colCummins, colCumprods, colCumsums,\n",
      "    colDiffs, colIQRDiffs, colIQRs, colLogSumExps, colMadDiffs,\n",
      "    colMads, colMaxs, colMeans2, colMedians, colMins, colOrderStats,\n",
      "    colProds, colQuantiles, colRanges, colRanks, colSdDiffs, colSds,\n",
      "    colSums2, colTabulates, colVarDiffs, colVars, colWeightedMads,\n",
      "    colWeightedMeans, colWeightedMedians, colWeightedSds,\n",
      "    colWeightedVars, rowAlls, rowAnyNAs, rowAnys, rowAvgsPerColSet,\n",
      "    rowCollapse, rowCounts, rowCummaxs, rowCummins, rowCumprods,\n",
      "    rowCumsums, rowDiffs, rowIQRDiffs, rowIQRs, rowLogSumExps,\n",
      "    rowMadDiffs, rowMads, rowMaxs, rowMeans2, rowMedians, rowMins,\n",
      "    rowOrderStats, rowProds, rowQuantiles, rowRanges, rowRanks,\n",
      "    rowSdDiffs, rowSds, rowSums2, rowTabulates, rowVarDiffs, rowVars,\n",
      "    rowWeightedMads, rowWeightedMeans, rowWeightedMedians,\n",
      "    rowWeightedSds, rowWeightedVars\n",
      "\n",
      "\n",
      "Loading required package: Biobase\n",
      "\n",
      "Welcome to Bioconductor\n",
      "\n",
      "    Vignettes contain introductory material; view with\n",
      "    'browseVignettes()'. To cite Bioconductor, see\n",
      "    'citation(\"Biobase\")', and for packages 'citation(\"pkgname\")'.\n",
      "\n",
      "\n",
      "\n",
      "Attaching package: ‘Biobase’\n",
      "\n",
      "\n",
      "The following object is masked from ‘package:MatrixGenerics’:\n",
      "\n",
      "    rowMedians\n",
      "\n",
      "\n",
      "The following objects are masked from ‘package:matrixStats’:\n",
      "\n",
      "    anyMissing, rowMedians\n",
      "\n",
      "\n"
     ]
    }
   ],
   "source": [
    "library(tximport)\n",
    "library(dplyr)\n",
    "library(ggplot2)\n",
    "library(DESeq2)"
   ]
  },
  {
   "cell_type": "code",
   "execution_count": 2,
   "id": "6ff607aa",
   "metadata": {
    "vscode": {
     "languageId": "r"
    }
   },
   "outputs": [],
   "source": [
    "files <- list.files(path = \"~/rna-seq-tutorial/raw-seq-data\", pattern = \".sf\", full.names = TRUE, recursive = TRUE)\n",
    "\n",
    "samp_dirs <- basename(dirname(files))\n",
    "names(files) <- sub(\"_quant$\", \"\", samp_dirs)"
   ]
  },
  {
   "cell_type": "code",
   "execution_count": 3,
   "id": "12b6e425",
   "metadata": {
    "vscode": {
     "languageId": "r"
    }
   },
   "outputs": [],
   "source": [
    "gtf <- rtracklayer::import(\"~/rna-seq-tutorial/reference/gencode.v45.basic.annotation.gtf.gz\")"
   ]
  },
  {
   "cell_type": "code",
   "execution_count": 4,
   "id": "9fccc428",
   "metadata": {
    "vscode": {
     "languageId": "r"
    }
   },
   "outputs": [
    {
     "data": {
      "text/plain": [
       "GRanges object with 6 ranges and 22 metadata columns:\n",
       "      seqnames      ranges strand |   source       type     score     phase\n",
       "         <Rle>   <IRanges>  <Rle> | <factor>   <factor> <numeric> <integer>\n",
       "  [1]     chr1 11869-14409      + |   HAVANA gene              NA      <NA>\n",
       "  [2]     chr1 11869-14409      + |   HAVANA transcript        NA      <NA>\n",
       "  [3]     chr1 11869-12227      + |   HAVANA exon              NA      <NA>\n",
       "  [4]     chr1 12613-12721      + |   HAVANA exon              NA      <NA>\n",
       "  [5]     chr1 13221-14409      + |   HAVANA exon              NA      <NA>\n",
       "  [6]     chr1 12010-13670      + |   HAVANA gene              NA      <NA>\n",
       "                gene_id              gene_type   gene_name       level\n",
       "            <character>            <character> <character> <character>\n",
       "  [1] ENSG00000290825.1                 lncRNA     DDX11L2           2\n",
       "  [2] ENSG00000290825.1                 lncRNA     DDX11L2           2\n",
       "  [3] ENSG00000290825.1                 lncRNA     DDX11L2           2\n",
       "  [4] ENSG00000290825.1                 lncRNA     DDX11L2           2\n",
       "  [5] ENSG00000290825.1                 lncRNA     DDX11L2           2\n",
       "  [6] ENSG00000223972.6 transcribed_unproces..     DDX11L1           2\n",
       "                      tag     transcript_id transcript_type transcript_name\n",
       "              <character>       <character>     <character>     <character>\n",
       "  [1] overlaps_pseudogene              <NA>            <NA>            <NA>\n",
       "  [2]   Ensembl_canonical ENST00000456328.2          lncRNA     DDX11L2-202\n",
       "  [3]   Ensembl_canonical ENST00000456328.2          lncRNA     DDX11L2-202\n",
       "  [4]   Ensembl_canonical ENST00000456328.2          lncRNA     DDX11L2-202\n",
       "  [5]   Ensembl_canonical ENST00000456328.2          lncRNA     DDX11L2-202\n",
       "  [6]                <NA>              <NA>            <NA>            <NA>\n",
       "      transcript_support_level    havana_transcript exon_number\n",
       "                   <character>          <character> <character>\n",
       "  [1]                     <NA>                 <NA>        <NA>\n",
       "  [2]                        1 OTTHUMT00000362751.1        <NA>\n",
       "  [3]                        1 OTTHUMT00000362751.1           1\n",
       "  [4]                        1 OTTHUMT00000362751.1           2\n",
       "  [5]                        1 OTTHUMT00000362751.1           3\n",
       "  [6]                     <NA>                 <NA>        <NA>\n",
       "                exon_id     hgnc_id          havana_gene         ont\n",
       "            <character> <character>          <character> <character>\n",
       "  [1]              <NA>        <NA>                 <NA>        <NA>\n",
       "  [2]              <NA>        <NA>                 <NA>        <NA>\n",
       "  [3] ENSE00002234944.1        <NA>                 <NA>        <NA>\n",
       "  [4] ENSE00003582793.1        <NA>                 <NA>        <NA>\n",
       "  [5] ENSE00002312635.1        <NA>                 <NA>        <NA>\n",
       "  [6]              <NA>  HGNC:37102 OTTHUMG00000000961.2        <NA>\n",
       "       protein_id      ccdsid  artif_dupl\n",
       "      <character> <character> <character>\n",
       "  [1]        <NA>        <NA>        <NA>\n",
       "  [2]        <NA>        <NA>        <NA>\n",
       "  [3]        <NA>        <NA>        <NA>\n",
       "  [4]        <NA>        <NA>        <NA>\n",
       "  [5]        <NA>        <NA>        <NA>\n",
       "  [6]        <NA>        <NA>        <NA>\n",
       "  -------\n",
       "  seqinfo: 25 sequences from an unspecified genome; no seqlengths"
      ]
     },
     "metadata": {},
     "output_type": "display_data"
    }
   ],
   "source": [
    "head(gtf)"
   ]
  },
  {
   "cell_type": "markdown",
   "id": "515ac3c8",
   "metadata": {},
   "source": [
    "Convert it into a df with tidyverse."
   ]
  },
  {
   "cell_type": "code",
   "execution_count": 5,
   "id": "04ad34ea",
   "metadata": {
    "vscode": {
     "languageId": "r"
    }
   },
   "outputs": [],
   "source": [
    "gtf_df <- as.data.frame(gtf)"
   ]
  },
  {
   "cell_type": "markdown",
   "id": "987e6ab8",
   "metadata": {},
   "source": [
    "This file is used to import the salmon output to summarize the counts from transcript level to gene level."
   ]
  },
  {
   "cell_type": "code",
   "execution_count": 6,
   "id": "409f1209",
   "metadata": {
    "vscode": {
     "languageId": "r"
    }
   },
   "outputs": [],
   "source": [
    "tx2gene <- gtf_df %>%\n",
    "        filter(type == \"transcript\") %>%\n",
    "        select(transcript_id, gene_id)"
   ]
  },
  {
   "cell_type": "markdown",
   "id": "4ca2e01a",
   "metadata": {},
   "source": [
    "This file is used to map the ENSEMBL gene id to gene symbols in the DESeq2 results"
   ]
  },
  {
   "cell_type": "code",
   "execution_count": 7,
   "id": "88b529e8",
   "metadata": {
    "vscode": {
     "languageId": "r"
    }
   },
   "outputs": [],
   "source": [
    "gene_name_map <- gtf_df %>% \n",
    "        filter(type == \"gene\") %>% \n",
    "        select(gene_id, gene_name)"
   ]
  },
  {
   "cell_type": "markdown",
   "id": "59e21bfe",
   "metadata": {},
   "source": [
    "Use tx2gene to summarize to gene level."
   ]
  },
  {
   "cell_type": "code",
   "execution_count": 8,
   "id": "b2cc47f7",
   "metadata": {
    "vscode": {
     "languageId": "r"
    }
   },
   "outputs": [
    {
     "name": "stderr",
     "output_type": "stream",
     "text": [
      "reading in files with read_tsv\n",
      "\n",
      "1 \n",
      "2 \n",
      "3 \n",
      "4 \n",
      "5 \n",
      "6 \n",
      "7 \n",
      "8 \n",
      "9 \n",
      "10 \n",
      "11 \n",
      "12 \n",
      "13 \n",
      "14 \n",
      "15 \n",
      "16 \n",
      "\n",
      "\n",
      "transcripts missing from tx2gene: 134744\n",
      "\n",
      "summarizing abundance\n",
      "\n",
      "summarizing counts\n",
      "\n",
      "summarizing length\n",
      "\n"
     ]
    }
   ],
   "source": [
    "txi.salmon <- tximport(files, type = \"salmon\", tx2gene = tx2gene)"
   ]
  },
  {
   "cell_type": "markdown",
   "id": "013811a6",
   "metadata": {},
   "source": [
    "Read in the meta data that we downloaded earlier. As you may have noticid already,the metadata for our dataset is more messy than we would like as there are not individual columns for treatment group etc that would allow us to easily use the file. Therefore, we need to make a dataframe that meets our requirements using the data we have."
   ]
  },
  {
   "cell_type": "code",
   "execution_count": 9,
   "id": "d2b43e75",
   "metadata": {
    "vscode": {
     "languageId": "r"
    }
   },
   "outputs": [],
   "source": [
    "ena <- read.delim(\"/home/anbennett2/rna-seq-tutorial/filereport_read_run_SRP033351_tsv-2.txt\", \n",
    "                  sep = \"\\t\", header = TRUE, stringsAsFactors = FALSE)"
   ]
  },
  {
   "cell_type": "markdown",
   "id": "95fc00b6",
   "metadata": {},
   "source": [
    "Extract the column names from the counts matrix in the txi.salmon object."
   ]
  },
  {
   "cell_type": "code",
   "execution_count": 10,
   "id": "5a6b6146",
   "metadata": {
    "vscode": {
     "languageId": "r"
    }
   },
   "outputs": [],
   "source": [
    "sample_ids <- colnames(txi.salmon$counts)"
   ]
  },
  {
   "cell_type": "markdown",
   "id": "bdea37dd",
   "metadata": {},
   "source": [
    "Perform a sanity check to ensure that every sample ID in the count matrix is inside the metadata file."
   ]
  },
  {
   "cell_type": "code",
   "execution_count": 11,
   "id": "0a67606f",
   "metadata": {
    "vscode": {
     "languageId": "r"
    }
   },
   "outputs": [],
   "source": [
    "stopifnot(all(sample_ids %in% ena$run_accession))"
   ]
  },
  {
   "cell_type": "markdown",
   "id": "e53e1632",
   "metadata": {
    "vscode": {
     "languageId": "r"
    }
   },
   "source": [
    "creates a new metadata data frame 'ena_aligned' where the rows are reordered to match the order of sample_ids from your count matrix."
   ]
  },
  {
   "cell_type": "code",
   "execution_count": 12,
   "id": "cbf81d3e",
   "metadata": {
    "vscode": {
     "languageId": "r"
    }
   },
   "outputs": [],
   "source": [
    "ena_aligned <- ena[match(sample_ids, ena$run_accession), ]"
   ]
  },
  {
   "cell_type": "markdown",
   "id": "182a2b9f",
   "metadata": {},
   "source": [
    "Create a vector which assigns a treatment group to each sample based on sample_title in the metadata"
   ]
  },
  {
   "cell_type": "code",
   "execution_count": 13,
   "id": "7105cd86",
   "metadata": {
    "vscode": {
     "languageId": "r"
    }
   },
   "outputs": [],
   "source": [
    "condition <- case_when(\n",
    "  grepl(\"_untreated$\", ena_aligned$sample_title) ~ \"untreated\",\n",
    "  grepl(\"_Alb_Dex$\", ena_aligned$sample_title) ~ \"albuterol_dexamethasone\", \n",
    "  grepl(\"_Alb$\", ena_aligned$sample_title) ~ \"albuterol\",\n",
    "  grepl(\"_Dex$\", ena_aligned$sample_title) ~ \"dexamethasone\",\n",
    "  TRUE ~ NA_character_\n",
    ")"
   ]
  },
  {
   "cell_type": "markdown",
   "id": "8ca89d40",
   "metadata": {
    "vscode": {
     "languageId": "r"
    }
   },
   "source": [
    "Create a vector called donor which extracts the part of each sample_title before the first underscore. This is what we will use for grouping samples by donor in downstream analysis."
   ]
  },
  {
   "cell_type": "code",
   "execution_count": 14,
   "id": "afe70416",
   "metadata": {
    "vscode": {
     "languageId": "r"
    }
   },
   "outputs": [],
   "source": [
    "donor <- sub(\"_.*$\", \"\", ena_aligned$sample_title)"
   ]
  },
  {
   "cell_type": "markdown",
   "id": "23f956a3",
   "metadata": {
    "vscode": {
     "languageId": "r"
    }
   },
   "source": [
    "Create a metadata data frame called meta for downstream analysis"
   ]
  },
  {
   "cell_type": "code",
   "execution_count": 15,
   "id": "19e99fa3",
   "metadata": {
    "vscode": {
     "languageId": "r"
    }
   },
   "outputs": [],
   "source": [
    "meta <- data.frame(\n",
    "  condition = factor(condition, \n",
    "                    levels = c(\"untreated\", \"albuterol\", \"dexamethasone\", \"albuterol_dexamethasone\")),\n",
    "  donor = factor(donor),\n",
    "  row.names = ena_aligned$run_accession,\n",
    "  stringsAsFactors = FALSE\n",
    ")"
   ]
  },
  {
   "cell_type": "markdown",
   "id": "4dc3073a",
   "metadata": {},
   "source": [
    "Take a look at the metadata we just creat4ed"
   ]
  },
  {
   "cell_type": "code",
   "execution_count": 16,
   "id": "0f4e8b82",
   "metadata": {
    "vscode": {
     "languageId": "r"
    }
   },
   "outputs": [
    {
     "name": "stdout",
     "output_type": "stream",
     "text": [
      "                         condition   donor\n",
      "SRR1039508               untreated  N61311\n",
      "SRR1039509           dexamethasone  N61311\n",
      "SRR1039510               albuterol  N61311\n",
      "SRR1039511 albuterol_dexamethasone  N61311\n",
      "SRR1039512               untreated N052611\n",
      "SRR1039513           dexamethasone N052611\n",
      "SRR1039514               albuterol N052611\n",
      "SRR1039515 albuterol_dexamethasone N052611\n",
      "SRR1039516               untreated N080611\n",
      "SRR1039517           dexamethasone N080611\n",
      "SRR1039518               albuterol N080611\n",
      "SRR1039519 albuterol_dexamethasone N080611\n",
      "SRR1039520               untreated N061011\n",
      "SRR1039521           dexamethasone N061011\n",
      "SRR1039522               albuterol N061011\n",
      "SRR1039523 albuterol_dexamethasone N061011\n"
     ]
    },
    {
     "data": {
      "text/plain": [
       "\n",
       "              untreated               albuterol           dexamethasone \n",
       "                      4                       4                       4 \n",
       "albuterol_dexamethasone \n",
       "                      4 "
      ]
     },
     "metadata": {},
     "output_type": "display_data"
    },
    {
     "data": {
      "text/plain": [
       "\n",
       "N052611 N061011 N080611  N61311 \n",
       "      4       4       4       4 "
      ]
     },
     "metadata": {},
     "output_type": "display_data"
    }
   ],
   "source": [
    "print(meta)\n",
    "table(meta$condition)\n",
    "table(meta$donor)"
   ]
  },
  {
   "cell_type": "code",
   "execution_count": 17,
   "id": "07727d2a",
   "metadata": {
    "vscode": {
     "languageId": "r"
    }
   },
   "outputs": [],
   "source": [
    "stopifnot(identical(rownames(meta), colnames(txi.salmon$counts)))\n",
    "stopifnot(!any(is.na(meta$condition)))"
   ]
  },
  {
   "cell_type": "markdown",
   "id": "ad6cd717",
   "metadata": {},
   "source": [
    "Now we willm use DeSeq2 to perform the differential expression analysis."
   ]
  },
  {
   "cell_type": "code",
   "execution_count": 18,
   "id": "a27e5ee8",
   "metadata": {
    "vscode": {
     "languageId": "r"
    }
   },
   "outputs": [
    {
     "name": "stderr",
     "output_type": "stream",
     "text": [
      "using counts and average transcript lengths from tximport\n",
      "\n",
      "estimating size factors\n",
      "\n",
      "using 'avgTxLength' from assays(dds), correcting for library size\n",
      "\n",
      "estimating dispersions\n",
      "\n",
      "gene-wise dispersion estimates\n",
      "\n",
      "mean-dispersion relationship\n",
      "\n",
      "final dispersion estimates\n",
      "\n",
      "fitting model and testing\n",
      "\n"
     ]
    },
    {
     "data": {
      "text/plain": [
       "log2 fold change (MLE): condition untreated vs dexamethasone \n",
       "Wald test p-value: condition untreated vs dexamethasone \n",
       "DataFrame with 62742 rows and 6 columns\n",
       "                      baseMean log2FoldChange     lfcSE       stat    pvalue\n",
       "                     <numeric>      <numeric> <numeric>  <numeric> <numeric>\n",
       "ENSG00000000003.16 791.3682232       0.375555  0.239352    1.56905 0.1166367\n",
       "ENSG00000000005.6    0.0528122       0.000000  4.327943    0.00000 1.0000000\n",
       "ENSG00000000419.14 514.6329083      -0.207617  0.110517   -1.87859 0.0603007\n",
       "ENSG00000000457.14 296.0506944       0.142772  0.112589    1.26809 0.2047672\n",
       "ENSG00000000460.17  51.0294445      -0.404865  0.366729   -1.10399 0.2695979\n",
       "...                        ...            ...       ...        ...       ...\n",
       "ENSG00000293556.1    0.0525095       0.000000   4.32794  0.0000000  1.000000\n",
       "ENSG00000293557.1    0.1809878       0.000000   4.32794  0.0000000  1.000000\n",
       "ENSG00000293558.1    0.0000000             NA        NA         NA        NA\n",
       "ENSG00000293559.1    0.0665701       0.539123   4.32794  0.1245679  0.900866\n",
       "ENSG00000293560.1    0.2215294      -0.189085   4.32794 -0.0436894  0.965152\n",
       "                        padj\n",
       "                   <numeric>\n",
       "ENSG00000000003.16  0.364800\n",
       "ENSG00000000005.6         NA\n",
       "ENSG00000000419.14  0.248896\n",
       "ENSG00000000457.14  0.496680\n",
       "ENSG00000000460.17  0.571238\n",
       "...                      ...\n",
       "ENSG00000293556.1         NA\n",
       "ENSG00000293557.1         NA\n",
       "ENSG00000293558.1         NA\n",
       "ENSG00000293559.1         NA\n",
       "ENSG00000293560.1         NA"
      ]
     },
     "metadata": {},
     "output_type": "display_data"
    }
   ],
   "source": [
    "dds <- DESeqDataSetFromTximport(txi.salmon, meta, ~ condition)\n",
    "\n",
    "dds$condition <- relevel(dds$condition, ref = \"untreated\")\n",
    "\n",
    "dds <- DESeq(dds)\n",
    "\n",
    "res <- results(dds, contrast = c(\"condition\", \"untreated\", \"dexamethasone\"))\n",
    "\n",
    "res"
   ]
  },
  {
   "cell_type": "markdown",
   "id": "133d3ec6",
   "metadata": {},
   "source": [
    "Plot the counts and p-vallue on a chart to check how they look and determine if its what we expect."
   ]
  },
  {
   "cell_type": "code",
   "execution_count": 19,
   "id": "52f0c358",
   "metadata": {
    "vscode": {
     "languageId": "r"
    }
   },
   "outputs": [
    {
     "name": "stderr",
     "output_type": "stream",
     "text": [
      "Warning message:\n",
      "“\u001b[1m\u001b[22mRemoved 22511 rows containing non-finite outside the scale range\n",
      "(`stat_bin()`).”\n"
     ]
    },
    {
     "data": {
      "image/png": "[encoded data removed]",
      "text/plain": [
       "plot without title"
      ]
     },
     "metadata": {
      "image/png": {
       "height": 420,
       "width": 420
      }
     },
     "output_type": "display_data"
    }
   ],
   "source": [
    "res %>% \n",
    "  as.data.frame() %>%\n",
    "  arrange(padj) %>%\n",
    "  ggplot(aes(x = pvalue)) +\n",
    "  geom_histogram(fill = \"#19a1b6ff\", color = \"white\", bins = 50) +\n",
    "  labs(\n",
    "    title = \"Histogram of p-values\",\n",
    "    x = \"p-value\",\n",
    "    y = \"Count\"\n",
    "  ) +\n",
    "  theme_minimal()"
   ]
  },
  {
   "cell_type": "code",
   "execution_count": 20,
   "id": "a95be192",
   "metadata": {
    "vscode": {
     "languageId": "r"
    }
   },
   "outputs": [
    {
     "data": {
      "image/png": "[encoded data removed]",
      "text/plain": [
       "plot without title"
      ]
     },
     "metadata": {
      "image/png": {
       "height": 420,
       "width": 420
      }
     },
     "output_type": "display_data"
    }
   ],
   "source": [
    "res %>%\n",
    "  as.data.frame() %>%\n",
    "  tibble::rownames_to_column(var = \"gene_id\") %>%\n",
    "  filter(!is.na(pvalue)) %>%\n",
    "  mutate(pvalue_bin = if_else(pvalue > 0.75, \"high\", \"low\")) %>%\n",
    "  ggplot(aes(x = pvalue_bin, y = log2(baseMean), fill = pvalue_bin)) +\n",
    "  geom_boxplot(color = \"#000000ff\") +  # Default shows whiskers\n",
    "  scale_fill_manual(values = c(\"low\" = \"#3ee7a3ff\", \"high\" = \"#d22410ff\")) +\n",
    "  labs(\n",
    "    title = \"BaseMean by p-value bin\",\n",
    "    x = \"p-value bin\",\n",
    "    y = \"log2(BaseMean)\",\n",
    "    fill = \"P-value bin\"\n",
    "  ) +\n",
    "  theme_minimal()"
   ]
  },
  {
   "cell_type": "code",
   "execution_count": 21,
   "id": "e764605b",
   "metadata": {
    "vscode": {
     "languageId": "r"
    }
   },
   "outputs": [
    {
     "name": "stderr",
     "output_type": "stream",
     "text": [
      "using pre-existing normalization factors\n",
      "\n",
      "estimating dispersions\n",
      "\n",
      "found already estimated dispersions, replacing these\n",
      "\n",
      "gene-wise dispersion estimates\n",
      "\n",
      "mean-dispersion relationship\n",
      "\n",
      "final dispersion estimates\n",
      "\n",
      "fitting model and testing\n",
      "\n"
     ]
    }
   ],
   "source": [
    "# counts across 4 samples should be greater than 10, this number is subjective\n",
    "dds <- dds[rowSums(counts(dds)) > 10,]\n",
    "\n",
    "dds <- DESeq(dds)\n",
    "\n",
    "res <- results(dds, contrast = c(\"condition\", \"untreated\", \"dexamethasone\"))\n"
   ]
  },
  {
   "cell_type": "code",
   "execution_count": 22,
   "id": "65a1f694",
   "metadata": {
    "vscode": {
     "languageId": "r"
    }
   },
   "outputs": [
    {
     "name": "stderr",
     "output_type": "stream",
     "text": [
      "Warning message:\n",
      "“\u001b[1m\u001b[22mRemoved 91 rows containing non-finite outside the scale range (`stat_bin()`).”\n"
     ]
    },
    {
     "data": {
      "image/png": "[encoded data removed]",
      "text/plain": [
       "plot without title"
      ]
     },
     "metadata": {
      "image/png": {
       "height": 420,
       "width": 420
      }
     },
     "output_type": "display_data"
    }
   ],
   "source": [
    "res %>% \n",
    "  as.data.frame() %>%\n",
    "  arrange(padj) %>%\n",
    "  ggplot(aes(x = pvalue)) +\n",
    "  geom_histogram(fill = \"#19a1b6ff\", color = \"white\", bins = 50) +\n",
    "  labs(\n",
    "    title = \"Histogram of p-values\",\n",
    "    x = \"p-value\",\n",
    "    y = \"Count\"\n",
    "  ) +\n",
    "  theme_minimal()"
   ]
  },
  {
   "cell_type": "code",
   "execution_count": 23,
   "id": "d29d7cbb",
   "metadata": {
    "vscode": {
     "languageId": "r"
    }
   },
   "outputs": [
    {
     "data": {
      "image/png": "[encoded data removed]",
      "text/plain": [
       "plot without title"
      ]
     },
     "metadata": {
      "image/png": {
       "height": 420,
       "width": 420
      }
     },
     "output_type": "display_data"
    }
   ],
   "source": [
    "res %>%\n",
    "  as.data.frame() %>%\n",
    "  tibble::rownames_to_column(var = \"gene_id\") %>%\n",
    "  filter(!is.na(pvalue)) %>%\n",
    "  mutate(pvalue_bin = if_else(pvalue > 0.75, \"high\", \"low\")) %>%\n",
    "  ggplot(aes(x = pvalue_bin, y = log2(baseMean), fill = pvalue_bin)) +\n",
    "  geom_boxplot(color = \"#000000ff\") +  # Default shows whiskers\n",
    "  scale_fill_manual(values = c(\"low\" = \"#3ee7a3ff\", \"high\" = \"#d22410ff\")) +\n",
    "  labs(\n",
    "    title = \"BaseMean by p-value bin\",\n",
    "    x = \"P-value bin\",\n",
    "    y = \"log2(BaseMean)\",\n",
    "    fill = \"P-value bin\"\n",
    "  ) +\n",
    "  theme_minimal()"
   ]
  },
  {
   "cell_type": "code",
   "execution_count": 24,
   "id": "41b3b6ad",
   "metadata": {
    "vscode": {
     "languageId": "r"
    }
   },
   "outputs": [
    {
     "name": "stderr",
     "output_type": "stream",
     "text": [
      "\u001b[1m\u001b[22mJoining with `by = join_by(gene_id)`\n"
     ]
    },
    {
     "data": {
      "text/html": [
       "<table class=\"dataframe\">\n",
       "<caption>A data.frame: 6 × 8</caption>\n",
       "<thead>\n",
       "\t<tr><th></th><th scope=col>gene_id</th><th scope=col>baseMean</th><th scope=col>log2FoldChange</th><th scope=col>lfcSE</th><th scope=col>stat</th><th scope=col>pvalue</th><th scope=col>padj</th><th scope=col>gene_name</th></tr>\n",
       "\t<tr><th></th><th scope=col>&lt;chr&gt;</th><th scope=col>&lt;dbl&gt;</th><th scope=col>&lt;dbl&gt;</th><th scope=col>&lt;dbl&gt;</th><th scope=col>&lt;dbl&gt;</th><th scope=col>&lt;dbl&gt;</th><th scope=col>&lt;dbl&gt;</th><th scope=col>&lt;chr&gt;</th></tr>\n",
       "</thead>\n",
       "<tbody>\n",
       "\t<tr><th scope=row>1</th><td>ENSG00000179094.16</td><td> 866.20625</td><td>-3.1960307</td><td>0.5487791</td><td>-5.823893</td><td>5.749226e-09</td><td>4.754675e-05</td><td>PER1    </td></tr>\n",
       "\t<tr><th scope=row>2</th><td>ENSG00000109906.15</td><td>1130.36863</td><td>-8.1880003</td><td>1.4063867</td><td>-5.822012</td><td>5.814338e-09</td><td>4.754675e-05</td><td>ZBTB16  </td></tr>\n",
       "\t<tr><th scope=row>3</th><td>ENSG00000198517.10</td><td> 655.52778</td><td>-0.7390099</td><td>0.1330988</td><td>-5.552343</td><td>2.818665e-08</td><td>1.445344e-04</td><td>MAFK    </td></tr>\n",
       "\t<tr><th scope=row>4</th><td>ENSG00000179593.16</td><td>  69.17867</td><td>-9.5013187</td><td>1.7235518</td><td>-5.512639</td><td>3.534929e-08</td><td>1.445344e-04</td><td>ALOX15B </td></tr>\n",
       "\t<tr><th scope=row>5</th><td>ENSG00000166401.15</td><td> 405.33354</td><td>-0.6878922</td><td>0.1273192</td><td>-5.402894</td><td>6.557438e-08</td><td>2.144938e-04</td><td>SERPINB8</td></tr>\n",
       "\t<tr><th scope=row>6</th><td>ENSG00000136051.15</td><td>1827.73757</td><td>-0.4439631</td><td>0.0844476</td><td>-5.257261</td><td>1.462164e-07</td><td>3.985616e-04</td><td>WASHC4  </td></tr>\n",
       "</tbody>\n",
       "</table>\n"
      ],
      "text/latex": [
       "A data.frame: 6 × 8\n",
       "\\begin{tabular}{r|llllllll}\n",
       "  & gene\\_id & baseMean & log2FoldChange & lfcSE & stat & pvalue & padj & gene\\_name\\\\\n",
       "  & <chr> & <dbl> & <dbl> & <dbl> & <dbl> & <dbl> & <dbl> & <chr>\\\\\n",
       "\\hline\n",
       "\t1 & ENSG00000179094.16 &  866.20625 & -3.1960307 & 0.5487791 & -5.823893 & 5.749226e-09 & 4.754675e-05 & PER1    \\\\\n",
       "\t2 & ENSG00000109906.15 & 1130.36863 & -8.1880003 & 1.4063867 & -5.822012 & 5.814338e-09 & 4.754675e-05 & ZBTB16  \\\\\n",
       "\t3 & ENSG00000198517.10 &  655.52778 & -0.7390099 & 0.1330988 & -5.552343 & 2.818665e-08 & 1.445344e-04 & MAFK    \\\\\n",
       "\t4 & ENSG00000179593.16 &   69.17867 & -9.5013187 & 1.7235518 & -5.512639 & 3.534929e-08 & 1.445344e-04 & ALOX15B \\\\\n",
       "\t5 & ENSG00000166401.15 &  405.33354 & -0.6878922 & 0.1273192 & -5.402894 & 6.557438e-08 & 2.144938e-04 & SERPINB8\\\\\n",
       "\t6 & ENSG00000136051.15 & 1827.73757 & -0.4439631 & 0.0844476 & -5.257261 & 1.462164e-07 & 3.985616e-04 & WASHC4  \\\\\n",
       "\\end{tabular}\n"
      ],
      "text/markdown": [
       "\n",
       "A data.frame: 6 × 8\n",
       "\n",
       "| <!--/--> | gene_id &lt;chr&gt; | baseMean &lt;dbl&gt; | log2FoldChange &lt;dbl&gt; | lfcSE &lt;dbl&gt; | stat &lt;dbl&gt; | pvalue &lt;dbl&gt; | padj &lt;dbl&gt; | gene_name &lt;chr&gt; |\n",
       "|---|---|---|---|---|---|---|---|---|\n",
       "| 1 | ENSG00000179094.16 |  866.20625 | -3.1960307 | 0.5487791 | -5.823893 | 5.749226e-09 | 4.754675e-05 | PER1     |\n",
       "| 2 | ENSG00000109906.15 | 1130.36863 | -8.1880003 | 1.4063867 | -5.822012 | 5.814338e-09 | 4.754675e-05 | ZBTB16   |\n",
       "| 3 | ENSG00000198517.10 |  655.52778 | -0.7390099 | 0.1330988 | -5.552343 | 2.818665e-08 | 1.445344e-04 | MAFK     |\n",
       "| 4 | ENSG00000179593.16 |   69.17867 | -9.5013187 | 1.7235518 | -5.512639 | 3.534929e-08 | 1.445344e-04 | ALOX15B  |\n",
       "| 5 | ENSG00000166401.15 |  405.33354 | -0.6878922 | 0.1273192 | -5.402894 | 6.557438e-08 | 2.144938e-04 | SERPINB8 |\n",
       "| 6 | ENSG00000136051.15 | 1827.73757 | -0.4439631 | 0.0844476 | -5.257261 | 1.462164e-07 | 3.985616e-04 | WASHC4   |\n",
       "\n"
      ],
      "text/plain": [
       "  gene_id            baseMean   log2FoldChange lfcSE     stat      pvalue      \n",
       "1 ENSG00000179094.16  866.20625 -3.1960307     0.5487791 -5.823893 5.749226e-09\n",
       "2 ENSG00000109906.15 1130.36863 -8.1880003     1.4063867 -5.822012 5.814338e-09\n",
       "3 ENSG00000198517.10  655.52778 -0.7390099     0.1330988 -5.552343 2.818665e-08\n",
       "4 ENSG00000179593.16   69.17867 -9.5013187     1.7235518 -5.512639 3.534929e-08\n",
       "5 ENSG00000166401.15  405.33354 -0.6878922     0.1273192 -5.402894 6.557438e-08\n",
       "6 ENSG00000136051.15 1827.73757 -0.4439631     0.0844476 -5.257261 1.462164e-07\n",
       "  padj         gene_name\n",
       "1 4.754675e-05 PER1     \n",
       "2 4.754675e-05 ZBTB16   \n",
       "3 1.445344e-04 MAFK     \n",
       "4 1.445344e-04 ALOX15B  \n",
       "5 2.144938e-04 SERPINB8 \n",
       "6 3.985616e-04 WASHC4   "
      ]
     },
     "metadata": {},
     "output_type": "display_data"
    }
   ],
   "source": [
    "add_gene_name<- function(res){\n",
    "  df<- as.data.frame(res) %>%\n",
    "    tibble::rownames_to_column(var = \"gene_id\") %>%\n",
    "    left_join(gene_name_map) %>%\n",
    "    arrange(padj, abs(log2FoldChange))\n",
    "  return(df)\n",
    "}\n",
    "\n",
    "\n",
    "add_gene_name(res) %>%\n",
    "        head()"
   ]
  }
 ],
 "metadata": {
  "kernelspec": {
   "display_name": "R",
   "language": "R",
   "name": "ir"
  },
  "language_info": {
   "codemirror_mode": "r",
   "file_extension": ".r",
   "mimetype": "text/x-r-source",
   "name": "R",
   "pygments_lexer": "r",
   "version": "4.4.3"
  }
 },
 "nbformat": 4,
 "nbformat_minor": 5
}
